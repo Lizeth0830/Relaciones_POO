{
 "cells": [
  {
   "cell_type": "code",
   "execution_count": 1,
   "id": "e26e4e95",
   "metadata": {},
   "outputs": [
    {
     "name": "stdout",
     "output_type": "stream",
     "text": [
      "Ana está usando sus teléfonos:\n",
      " - Samsung (123-4567)\n",
      "Llamando desde el número 123-4567...\n",
      " - iPhone (987-6543)\n",
      "Llamando desde el número 987-6543...\n"
     ]
    }
   ],
   "source": [
    "class Telefono:\n",
    "    def __init__(self, numero, marca):\n",
    "        self.numero = numero\n",
    "        self.marca = marca\n",
    "\n",
    "    def llamar(self):\n",
    "        print(f\"Llamando desde el número {self.numero}...\")\n",
    "\n",
    "class Persona:\n",
    "    def __init__(self, nombre, edad):\n",
    "        self.nombre = nombre\n",
    "        self.edad = edad\n",
    "        self.telefonos = []\n",
    "\n",
    "    def agregar_telefono(self, telefono):\n",
    "        self.telefonos.append(telefono)\n",
    "\n",
    "    def usar_telefonos(self):\n",
    "        print(f\"{self.nombre} está usando sus teléfonos:\")\n",
    "        for tel in self.telefonos:\n",
    "            print(f\" - {tel.marca} ({tel.numero})\")\n",
    "            tel.llamar()\n",
    "\n",
    "telefono1 = Telefono(\"123-4567\", \"Samsung\")\n",
    "telefono2 = Telefono(\"987-6543\", \"iPhone\")\n",
    "\n",
    "persona1 = Persona(\"Ana\", 30)\n",
    "\n",
    "persona1.agregar_telefono(telefono1)\n",
    "persona1.agregar_telefono(telefono2)\n",
    "\n",
    "persona1.usar_telefonos()\n"
   ]
  },
  {
   "cell_type": "markdown",
   "id": "12e40558",
   "metadata": {},
   "source": [
    "Este ejercicio es realizado de manera objetiva para dar a entender la relación de asociación bidireccional simple en POO, usando un ejemplo simple y claro que es:  Persona y Teléfono\n",
    "Escenario real:\n",
    "Una persona puede usar un teléfono, pero:\n",
    "El teléfono puede ser usado por diferentes personas.\n",
    "La persona puede usar distintos teléfonos.\n",
    "Ni la persona crea ni destruye el teléfono, solo lo usa."
   ]
  }
 ],
 "metadata": {
  "kernelspec": {
   "display_name": "Python 3",
   "language": "python",
   "name": "python3"
  },
  "language_info": {
   "codemirror_mode": {
    "name": "ipython",
    "version": 3
   },
   "file_extension": ".py",
   "mimetype": "text/x-python",
   "name": "python",
   "nbconvert_exporter": "python",
   "pygments_lexer": "ipython3",
   "version": "3.12.1"
  }
 },
 "nbformat": 4,
 "nbformat_minor": 5
}
