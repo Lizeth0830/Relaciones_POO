{
 "cells": [
  {
   "cell_type": "code",
   "execution_count": null,
   "id": "c46e0b7b",
   "metadata": {},
   "outputs": [],
   "source": [
    "class Motor:\n",
    "    def encender(self):\n",
    "        print(\"Motor encendido\")\n",
    "\n",
    "class Coche:\n",
    "    def __init__(self):\n",
    "        self.motor = Motor()\n",
    "\n",
    "    def arrancar(self):\n",
    "        self.motor.encender()"
   ]
  },
  {
   "cell_type": "markdown",
   "id": "562f3919",
   "metadata": {},
   "source": [
    "La clase Coche contiene un objeto Motor y al  llamar arrancar(), el coche enciende su motor."
   ]
  }
 ],
 "metadata": {
  "language_info": {
   "name": "python"
  }
 },
 "nbformat": 4,
 "nbformat_minor": 5
}
