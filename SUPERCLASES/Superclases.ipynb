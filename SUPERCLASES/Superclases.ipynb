{
 "cells": [
  {
   "cell_type": "code",
   "execution_count": 1,
   "id": "4af5d52a",
   "metadata": {},
   "outputs": [
    {
     "name": "stdout",
     "output_type": "stream",
     "text": [
      "Toyota Corolla está arrancando...\n",
      "Toyota Corolla: Maletero abierto.\n",
      "Yamaha R6 está arrancando...\n",
      "Yamaha R6 hace un caballito.\n"
     ]
    }
   ],
   "source": [
    "# Superclase\n",
    "class Vehiculo:\n",
    "    def __init__(self, marca, modelo):\n",
    "        self.marca = marca\n",
    "        self.modelo = modelo\n",
    "\n",
    "    def arrancar(self):\n",
    "        print(f\"{self.marca} {self.modelo} está arrancando...\")\n",
    "\n",
    "# Subclase Carro\n",
    "class Carro(Vehiculo):\n",
    "    def abrir_maletero(self):\n",
    "        print(f\"{self.marca} {self.modelo}: Maletero abierto.\")\n",
    "\n",
    "# Subclase Moto\n",
    "class Moto(Vehiculo):\n",
    "    def hacer_caballito(self):\n",
    "        print(f\"{self.marca} {self.modelo} hace un caballito.\")\n",
    "\n",
    "# Uso\n",
    "mi_carro = Carro(\"Toyota\", \"Corolla\")\n",
    "mi_moto = Moto(\"Yamaha\", \"R6\")\n",
    "\n",
    "mi_carro.arrancar()          # Método heredado de Vehiculo\n",
    "mi_carro.abrir_maletero()    # Método propio de Carro\n",
    "\n",
    "mi_moto.arrancar()           # Método heredado de Vehiculo\n",
    "mi_moto.hacer_caballito()    # Método propio de Moto\n"
   ]
  },
  {
   "cell_type": "markdown",
   "id": "898c9901",
   "metadata": {},
   "source": [
    "Creamos una superclase Vehiculo con atributos comunes como marca y modelo, y un método arrancar().\n",
    "Luego, creamos subclases Carro y Moto que heredan de Vehiculo y agregan sus propios métodos o atributos en donde damos a enterder lo que debe utilizar para realizar ejercicios con la relacion SUPERCLASE "
   ]
  }
 ],
 "metadata": {
  "kernelspec": {
   "display_name": "Python 3",
   "language": "python",
   "name": "python3"
  },
  "language_info": {
   "codemirror_mode": {
    "name": "ipython",
    "version": 3
   },
   "file_extension": ".py",
   "mimetype": "text/x-python",
   "name": "python",
   "nbconvert_exporter": "python",
   "pygments_lexer": "ipython3",
   "version": "3.13.2"
  }
 },
 "nbformat": 4,
 "nbformat_minor": 5
}
