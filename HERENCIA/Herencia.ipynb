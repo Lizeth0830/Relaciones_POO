{
 "cells": [
  {
   "cell_type": "code",
   "execution_count": 1,
   "id": "2f7b7cfd",
   "metadata": {},
   "outputs": [
    {
     "name": "stdout",
     "output_type": "stream",
     "text": [
      "Animalito dice: Algún sonido genérico\n",
      "Firulais dice: ¡Guau!\n",
      "Mishi dice: ¡Miau!\n"
     ]
    }
   ],
   "source": [
    "class Animal:\n",
    "    def __init__(self, nombre):\n",
    "        self.nombre = nombre\n",
    "\n",
    "    def hacer_sonido(self):\n",
    "        return \"Algún sonido genérico\"\n",
    "\n",
    "class Perro(Animal):\n",
    "    def hacer_sonido(self):\n",
    "        return \"¡Guau!\"\n",
    "\n",
    "class Gato(Animal):\n",
    "    def hacer_sonido(self):\n",
    "        return \"¡Miau!\"\n",
    "\n",
    "animal_generico = Animal(\"Animalito\")\n",
    "mi_perro = Perro(\"Firulais\")\n",
    "mi_gato = Gato(\"Mishi\")\n",
    "\n",
    "print(f\"{animal_generico.nombre} dice: {animal_generico.hacer_sonido()}\")\n",
    "print(f\"{mi_perro.nombre} dice: {mi_perro.hacer_sonido()}\")\n",
    "print(f\"{mi_gato.nombre} dice: {mi_gato.hacer_sonido()}\")\n"
   ]
  },
  {
   "cell_type": "markdown",
   "id": "b428eb06",
   "metadata": {},
   "source": [
    "Este ejercicio es realizado de manera objetiva para dar a entender la relación de Herencia en POO, usando un ejemplo simple y claro que es:  Animal -> Perro , Gato\n",
    "Animal es la clase padre que define atributos y métodos comunes.\n",
    "Perro y Gato son clases hijas que heredan de Animal usando class Perro(Animal).\n",
    "Cada clase hija sobrescribe el método hacer_sonido con su propia implementación.\n",
    "Al crear objetos de cada clase, se llama al método adecuado dependiendo de su tipo."
   ]
  }
 ],
 "metadata": {
  "kernelspec": {
   "display_name": "Python 3",
   "language": "python",
   "name": "python3"
  },
  "language_info": {
   "codemirror_mode": {
    "name": "ipython",
    "version": 3
   },
   "file_extension": ".py",
   "mimetype": "text/x-python",
   "name": "python",
   "nbconvert_exporter": "python",
   "pygments_lexer": "ipython3",
   "version": "3.13.2"
  }
 },
 "nbformat": 4,
 "nbformat_minor": 5
}
