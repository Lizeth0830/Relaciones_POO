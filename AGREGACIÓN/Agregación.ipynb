{
 "cells": [
  {
   "cell_type": "code",
   "execution_count": null,
   "id": "4b1e53b5",
   "metadata": {},
   "outputs": [
    {
     "name": "stdout",
     "output_type": "stream",
     "text": [
      "El Carro Ford Mustang está arrancando.\n",
      "El motor V8 está encendido.\n",
      "El Carro Ford Mustang se ha detenido.\n",
      "El motor V8 está apagado.\n",
      "---\n",
      "El Carro Chevrolet Camaro está arrancando.\n",
      "El motor V8 está encendido.\n",
      "El Carro Chevrolet Camaro se ha detenido.\n",
      "El motor V8 está apagado.\n"
     ]
    }
   ],
   "source": [
    "class Motor:\n",
    "    def __init__(self, tipo):\n",
    "        self.tipo = tipo\n",
    "\n",
    "    def encender(self):\n",
    "        print(f\"El motor {self.tipo} está encendido.\")\n",
    "\n",
    "    def apagar(self):\n",
    "        print(f\"El motor {self.tipo} está apagado.\")\n",
    "\n",
    "class Carro:\n",
    "    def __init__(self, marca, motor):\n",
    "        self.marca = marca\n",
    "        self.motor = motor \n",
    "\n",
    "    def arrancar(self):\n",
    "        print(f\"El Carro {self.marca} está arrancando.\")\n",
    "        self.motor.encender()\n",
    "\n",
    "    def detener(self):\n",
    "        print(f\"El Carro {self.marca} se ha detenido.\")\n",
    "        self.motor.apagar()\n",
    "\n",
    "motor_v8 = Motor(\"V8\")\n",
    "\n",
    "carro1 = Carro(\"Ford Mustang\", motor_v8)\n",
    "carro2 = Carro(\"Chevrolet Camaro\", motor_v8)\n",
    "\n",
    "carro1.arrancar()\n",
    "carro1.detener()\n",
    "\n",
    "print(\"---\")\n",
    "\n",
    "carro2.arrancar()\n",
    "carro2.detener()\n"
   ]
  },
  {
   "cell_type": "markdown",
   "id": "da540d56",
   "metadata": {},
   "source": [
    "Este ejercicio es realizado de manera objetiva para dar a entender la relación de agregación en POO, usando un ejemplo simple y claro que es:  una clase Carro y una clase Motor. Un carro tiene un motor, pero ese motor podría existir y funcionar en otro carro o incluso de forma independiente (por ejemplo, en un banco de pruebas). La relación entre Carro y Motor es de agregación porque el motor es parte del carro, pero no se crea ni se destruye junto con el carro. "
   ]
  }
 ],
 "metadata": {
  "kernelspec": {
   "display_name": "Python 3",
   "language": "python",
   "name": "python3"
  },
  "language_info": {
   "codemirror_mode": {
    "name": "ipython",
    "version": 3
   },
   "file_extension": ".py",
   "mimetype": "text/x-python",
   "name": "python",
   "nbconvert_exporter": "python",
   "pygments_lexer": "ipython3",
   "version": "3.12.1"
  }
 },
 "nbformat": 4,
 "nbformat_minor": 5
}
