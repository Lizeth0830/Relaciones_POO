{
 "cells": [
  {
   "cell_type": "code",
   "execution_count": 3,
   "id": "cbe407f7",
   "metadata": {},
   "outputs": [
    {
     "name": "stdout",
     "output_type": "stream",
     "text": [
      "¡Guau!\n",
      "¡Miau!\n"
     ]
    }
   ],
   "source": [
    "class Animal:\n",
    "    def hacer_sonido(self):\n",
    "        pass\n",
    "\n",
    "class Perro(Animal):\n",
    "    def hacer_sonido(self):\n",
    "        return \"¡Guau!\"\n",
    "\n",
    "class Gato(Animal):\n",
    "    def hacer_sonido(self):\n",
    "        return \"¡Miau!\"\n",
    "\n",
    "# Polimorfismo en acción\n",
    "animales = [Perro(), Gato()]\n",
    "\n",
    "for animal in animales:\n",
    "    print(animal.hacer_sonido())\n"
   ]
  },
  {
   "cell_type": "markdown",
   "id": "f0001808",
   "metadata": {},
   "source": [
    "Vamos a crear una clase base Animal y dos subclases (Perro y Gato). Cada una implementa su propia versión del método hacer_sonido() y asi damos una forma de polimorfismo."
   ]
  }
 ],
 "metadata": {
  "kernelspec": {
   "display_name": "Python 3",
   "language": "python",
   "name": "python3"
  },
  "language_info": {
   "codemirror_mode": {
    "name": "ipython",
    "version": 3
   },
   "file_extension": ".py",
   "mimetype": "text/x-python",
   "name": "python",
   "nbconvert_exporter": "python",
   "pygments_lexer": "ipython3",
   "version": "3.13.2"
  }
 },
 "nbformat": 4,
 "nbformat_minor": 5
}
